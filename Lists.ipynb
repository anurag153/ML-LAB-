{
  "nbformat": 4,
  "nbformat_minor": 0,
  "metadata": {
    "kernelspec": {
      "display_name": "Python 3",
      "language": "python",
      "name": "python3"
    },
    "language_info": {
      "codemirror_mode": {
        "name": "ipython",
        "version": 3
      },
      "file_extension": ".py",
      "mimetype": "text/x-python",
      "name": "python",
      "nbconvert_exporter": "python",
      "pygments_lexer": "ipython3",
      "version": "3.6.5"
    },
    "colab": {
      "name": "Lists.ipynb",
      "provenance": [],
      "collapsed_sections": [],
      "include_colab_link": true
    }
  },
  "cells": [
    {
      "cell_type": "markdown",
      "metadata": {
        "id": "view-in-github",
        "colab_type": "text"
      },
      "source": [
        "<a href=\"https://colab.research.google.com/github/anurag153/ML-LAB-/blob/master/Lists.ipynb\" target=\"_parent\"><img src=\"https://colab.research.google.com/assets/colab-badge.svg\" alt=\"Open In Colab\"/></a>"
      ]
    },
    {
      "cell_type": "markdown",
      "metadata": {
        "id": "CE9kazKvuEql",
        "colab_type": "text"
      },
      "source": [
        "# Lists"
      ]
    },
    {
      "cell_type": "markdown",
      "metadata": {
        "id": "mCoueiuRuEqn",
        "colab_type": "text"
      },
      "source": [
        "## Lists\n",
        "- A list is a collection of items, that is stored in a variable. \n",
        "- The items should be related in some way, but there are no restrictions on what can be stored in a list."
      ]
    },
    {
      "cell_type": "markdown",
      "metadata": {
        "id": "WMc00i-BuEqo",
        "colab_type": "text"
      },
      "source": [
        "### Syntax\n",
        "list-name = [list of comma seperated values]"
      ]
    },
    {
      "cell_type": "markdown",
      "metadata": {
        "id": "UVTNupfFuEqq",
        "colab_type": "text"
      },
      "source": [
        "### Slicing with list\n",
        "\n",
        "index start with 0\n",
        "\n",
        " listname[index_number]\n",
        "\n",
        " listname[start_index:end_index]\n",
        "\n",
        " listname[:end_index]\n",
        "\n",
        " listname[start_index:]\n",
        "\n",
        "\n",
        "negative index: \n",
        " listname[:-index] \n",
        "\n",
        "\n",
        "### list methods\n",
        "- append()\n",
        "- len()\n",
        "- insert(index,value)\n",
        "- sort()\n",
        "- reverse()\n",
        "- pop(), pop(index)\n",
        "- min(), max(), sum()\n",
        "\n",
        "\n",
        "We can change the contents of the lists after its creation\n",
        "\n",
        "listname[index]=newvalue"
      ]
    },
    {
      "cell_type": "markdown",
      "metadata": {
        "id": "zMEfQRFauEqr",
        "colab_type": "text"
      },
      "source": [
        "#### Task 1: Run below code and try to make some changes to the code"
      ]
    },
    {
      "cell_type": "code",
      "metadata": {
        "id": "-un7NuvzuEqs",
        "colab_type": "code",
        "outputId": "be8046d8-3645-431e-ee3a-c3510753d20e",
        "colab": {
          "base_uri": "https://localhost:8080/",
          "height": 68
        }
      },
      "source": [
        "# list creation\n",
        "countries = ['India', 'Japan', 'USA']\n",
        "\n",
        "# print whole list\n",
        "print(countries)\n",
        "\n",
        "# Accessing list elements\n",
        "print(\"Value at 0 index: \",countries[0])\n",
        "\n",
        "# assignning new value to index\n",
        "countries[0]='Australia'\n",
        "\n",
        "print(\"New value at index 0: \",countries[0])"
      ],
      "execution_count": 0,
      "outputs": [
        {
          "output_type": "stream",
          "text": [
            "['India', 'Japan', 'USA']\n",
            "Value at 0 index:  India\n",
            "New value at index 0:  Australia\n"
          ],
          "name": "stdout"
        }
      ]
    },
    {
      "cell_type": "code",
      "metadata": {
        "id": "MYK7Xplb-qeP",
        "colab_type": "code",
        "outputId": "352993c6-524c-4e6f-e5c3-48b6ed3d9968",
        "colab": {
          "base_uri": "https://localhost:8080/",
          "height": 34
        }
      },
      "source": [
        "countries"
      ],
      "execution_count": 0,
      "outputs": [
        {
          "output_type": "execute_result",
          "data": {
            "text/plain": [
              "['Japan', 'Australia', 'USA']"
            ]
          },
          "metadata": {
            "tags": []
          },
          "execution_count": 3
        }
      ]
    },
    {
      "cell_type": "markdown",
      "metadata": {
        "id": "dilg5WVYuEqx",
        "colab_type": "text"
      },
      "source": [
        "### Iterating lists"
      ]
    },
    {
      "cell_type": "markdown",
      "metadata": {
        "id": "81ryE-rZuEqz",
        "colab_type": "text"
      },
      "source": [
        "#### Task 2: Run below code and try to make some changes to the code"
      ]
    },
    {
      "cell_type": "code",
      "metadata": {
        "scrolled": true,
        "id": "E4fLjOaZuEq0",
        "colab_type": "code",
        "outputId": "77d65d2b-0c0c-43e1-871c-713ff6e9d45e",
        "colab": {
          "base_uri": "https://localhost:8080/",
          "height": 85
        }
      },
      "source": [
        "\n",
        "hybridlists=['My name is Anurag Mehta',\n",
        "             'I am in 6th',\n",
        "             'Semester']\n",
        "\n",
        "print(hybridlists)\n",
        "\n",
        "# we can access the elements of list using loops\n",
        "\n",
        "for item in hybridlists:\n",
        "    print(item)"
      ],
      "execution_count": 0,
      "outputs": [
        {
          "output_type": "stream",
          "text": [
            "['My name is Anurag Mehta', 'I am in 6th', 'Semester']\n",
            "My name is Anurag Mehta\n",
            "I am in 6th\n",
            "Semester\n"
          ],
          "name": "stdout"
        }
      ]
    },
    {
      "cell_type": "markdown",
      "metadata": {
        "id": "AfzGa6PXuEq4",
        "colab_type": "text"
      },
      "source": [
        "#### Task 3: Run below code and try to make some changes to the code"
      ]
    },
    {
      "cell_type": "code",
      "metadata": {
        "scrolled": false,
        "id": "uJy7ziaduEq5",
        "colab_type": "code",
        "outputId": "847480eb-ed89-443d-9204-796599742a08",
        "colab": {
          "base_uri": "https://localhost:8080/",
          "height": 102
        }
      },
      "source": [
        "# print the index number with value\n",
        "\n",
        "countries = ['India', 'Japan', 'USA']\n",
        "\n",
        "for index, country in enumerate(countries):\n",
        "    place = str(index)\n",
        "    print(\"Index: \" + place + \", Value: \" + country.title())\n",
        "    \n",
        "# find index of\n",
        "index = countries.index('India') \n",
        "print(\"\\n Index of India is: \",index)"
      ],
      "execution_count": 0,
      "outputs": [
        {
          "output_type": "stream",
          "text": [
            "Index: 0, Value: India\n",
            "Index: 1, Value: Japan\n",
            "Index: 2, Value: Usa\n",
            "\n",
            " Index of India is:  0\n"
          ],
          "name": "stdout"
        }
      ]
    },
    {
      "cell_type": "markdown",
      "metadata": {
        "id": "MC3q0utGuEq9",
        "colab_type": "text"
      },
      "source": [
        "#### Task 4: Run below code and try to make some changes to the code"
      ]
    },
    {
      "cell_type": "code",
      "metadata": {
        "id": "1ydARtKLuEq-",
        "colab_type": "code",
        "outputId": "fc9e294a-ee15-467a-9ce2-ea441caf89e6",
        "colab": {
          "base_uri": "https://localhost:8080/",
          "height": 34
        }
      },
      "source": [
        "# Remove the last country from the list by index or by value\n",
        "del countries[2]\n",
        "\n",
        "print(countries)"
      ],
      "execution_count": 0,
      "outputs": [
        {
          "output_type": "stream",
          "text": [
            "['India', 'Japan']\n"
          ],
          "name": "stdout"
        }
      ]
    },
    {
      "cell_type": "markdown",
      "metadata": {
        "id": "CqZJZ-ZLuErC",
        "colab_type": "text"
      },
      "source": [
        "### List comprehension (with for loop)"
      ]
    },
    {
      "cell_type": "markdown",
      "metadata": {
        "id": "BRObLUlIuErD",
        "colab_type": "text"
      },
      "source": [
        "#### Task 5: Run below code and try to make some changes to the code"
      ]
    },
    {
      "cell_type": "code",
      "metadata": {
        "id": "-NskuVdeuErE",
        "colab_type": "code",
        "outputId": "db8e6318-aa77-49d5-9dd0-402075738b42",
        "colab": {
          "base_uri": "https://localhost:8080/",
          "height": 34
        }
      },
      "source": [
        "# without comprehension\n",
        "\n",
        "squares = []\n",
        "for x in [1, 2, 3, 4, 5]:\n",
        "    squares.append(x ** 2) \n",
        "    \n",
        "print(squares)"
      ],
      "execution_count": 0,
      "outputs": [
        {
          "output_type": "stream",
          "text": [
            "[1, 4, 9, 16, 25]\n"
          ],
          "name": "stdout"
        }
      ]
    },
    {
      "cell_type": "code",
      "metadata": {
        "id": "0tnCvfgFuErJ",
        "colab_type": "code",
        "outputId": "555a73ac-025f-4928-aabc-c2307b804f53",
        "colab": {
          "base_uri": "https://localhost:8080/",
          "height": 34
        }
      },
      "source": [
        "# with comprehension\n",
        "  \n",
        "cubes= [x**3 for x in [1, 2, 3, 4, 5]]\n",
        "print(cubes)"
      ],
      "execution_count": 0,
      "outputs": [
        {
          "output_type": "stream",
          "text": [
            "[1, 8, 27, 64, 125]\n"
          ],
          "name": "stdout"
        }
      ]
    },
    {
      "cell_type": "code",
      "metadata": {
        "id": "rpw76uDVuErO",
        "colab_type": "code",
        "outputId": "47e89f3c-1440-452e-aa10-07943b9b98aa",
        "colab": {
          "base_uri": "https://localhost:8080/",
          "height": 34
        }
      },
      "source": [
        "numbers=[1,2,3,4,5,6,7,8,9,10]\n",
        "list=[x for x in numbers]\n",
        "list"
      ],
      "execution_count": 0,
      "outputs": [
        {
          "output_type": "execute_result",
          "data": {
            "text/plain": [
              "[1, 2, 3, 4, 5, 6, 7, 8, 9, 10]"
            ]
          },
          "metadata": {
            "tags": []
          },
          "execution_count": 9
        }
      ]
    },
    {
      "cell_type": "markdown",
      "metadata": {
        "id": "ZAqkJUWMuErU",
        "colab_type": "text"
      },
      "source": [
        "#### Program 1: Write a python program which does the following\n",
        "- Make a list that includes four job types , such as 'programmer', 'truck driver' and so on\n",
        "- Use the *list.index()* function to find the index of one job type in your list.\n",
        "- Use the *in* function to show that this job type is in your list.\n",
        "- Use the *append()* function to add a new job type to your list.\n",
        "- Use the *insert()* function to add a new job type \"Python Programmer\" at the beginning of the list.\n",
        "- Use a loop to show all the job types in your list."
      ]
    },
    {
      "cell_type": "code",
      "metadata": {
        "id": "FCvBiOY0GM9O",
        "colab_type": "code",
        "outputId": "d1549c2a-5292-4ad3-b2e1-fe279a032414",
        "colab": {
          "base_uri": "https://localhost:8080/",
          "height": 255
        }
      },
      "source": [
        "#list consisting four jobs\n",
        "job_type=['Full-Stack Developer','Data Scientist','Data Analyst','Front-end Developer']\n",
        "print(job_type)\n",
        "\n",
        "#finding index\n",
        "print(job_type.index('Data Scientist'))\n",
        "\n",
        "#use of in function\n",
        "for job in job_type:\n",
        "  print(job)\n",
        "\n",
        "#append method\n",
        "job_type.append(\"Back-end Developer\")\n",
        "print(job_type)\n",
        "\n",
        "#insert method\n",
        "job_type.insert(0,\"Python Programmer\")\n",
        "print(job_type)\n",
        "\n",
        "#use of loop\n",
        "for job in job_type:\n",
        "  print(job)"
      ],
      "execution_count": 0,
      "outputs": [
        {
          "output_type": "stream",
          "text": [
            "['Full-Stack Developer', 'Data Scientist', 'Data Analyst', 'Front-end Developer']\n",
            "1\n",
            "Full-Stack Developer\n",
            "Data Scientist\n",
            "Data Analyst\n",
            "Front-end Developer\n",
            "['Full-Stack Developer', 'Data Scientist', 'Data Analyst', 'Front-end Developer', 'Back-end Developer']\n",
            "['Python Programmer', 'Full-Stack Developer', 'Data Scientist', 'Data Analyst', 'Front-end Developer', 'Back-end Developer']\n",
            "Python Programmer\n",
            "Full-Stack Developer\n",
            "Data Scientist\n",
            "Data Analyst\n",
            "Front-end Developer\n",
            "Back-end Developer\n"
          ],
          "name": "stdout"
        }
      ]
    },
    {
      "cell_type": "markdown",
      "metadata": {
        "id": "-BfTr0PE10fb",
        "colab_type": "text"
      },
      "source": [
        ""
      ]
    },
    {
      "cell_type": "code",
      "metadata": {
        "id": "RZPxGiH0uErW",
        "colab_type": "code",
        "colab": {}
      },
      "source": [
        "# start writing your code after this line\n"
      ],
      "execution_count": 0,
      "outputs": []
    },
    {
      "cell_type": "markdown",
      "metadata": {
        "id": "s9_VCnkJuEra",
        "colab_type": "text"
      },
      "source": [
        "#### Problem 2: Write a python program for following\n",
        "\n",
        "- Make a list that includes the names of five famous people.\n",
        "- Remove each person from the list, one at a time, using the four methods given below:\n",
        "    - Del item from the list by del: del listname[index]\n",
        "    - Remove the item from the list by remove method: listname.remove('itemname')\n",
        "    - Using pop() method, It removes the last item from the list: listname.pop() \n",
        "    - Pop any item from the list by index: listname: listname.pop(index)\n",
        "- Print out a message that there are no famous people left in your list, and print your list to prove that it is empty."
      ]
    },
    {
      "cell_type": "code",
      "metadata": {
        "id": "3Cf_mbehuErb",
        "colab_type": "code",
        "outputId": "911cf7f6-08ba-48c4-aa5f-287a24a75466",
        "colab": {
          "base_uri": "https://localhost:8080/",
          "height": 85
        }
      },
      "source": [
        "# start writing your code after this line\n",
        "l=['Anurag','Arun','Anidhya','Damon','Chinmay']\n",
        "del l[0]\n",
        "print(l)\n",
        "l.remove('Chinmay')\n",
        "print(l)\n",
        "l.pop()\n",
        "print(l)\n",
        "l.pop(0)\n",
        "print(l)\n"
      ],
      "execution_count": 0,
      "outputs": [
        {
          "output_type": "stream",
          "text": [
            "['Arun', 'Anidhya', 'Damon', 'Chinmay']\n",
            "['Arun', 'Anidhya', 'Damon']\n",
            "['Arun', 'Anidhya']\n",
            "['Anidhya']\n"
          ],
          "name": "stdout"
        }
      ]
    },
    {
      "cell_type": "markdown",
      "metadata": {
        "id": "GSsWG_cGuErf",
        "colab_type": "text"
      },
      "source": [
        "#### Program 3: Write a python program which does the following\n",
        "\n",
        "- Store the first ten letters of the alphabet in a list.\n",
        "- Use a slice to print out the first three letters of the alphabet.\n",
        "- Use a slice to print out any three letters from the middle of your list.\n",
        "- Use a slice to print out the letters from any point in the middle of your list, to the end.\n"
      ]
    },
    {
      "cell_type": "code",
      "metadata": {
        "id": "tmrnWq_YuErg",
        "colab_type": "code",
        "outputId": "2404f212-08bb-4570-c3b2-e0714122c002",
        "colab": {
          "base_uri": "https://localhost:8080/",
          "height": 68
        }
      },
      "source": [
        "# start writing your code after this line\n",
        "li=['a','b','c','d','e','f','g','h','i','j']\n",
        "print(li[slice(0,3)])\n",
        "print(li[slice(4,7)])\n",
        "print(li[slice(8,10)])"
      ],
      "execution_count": 0,
      "outputs": [
        {
          "output_type": "stream",
          "text": [
            "['a', 'b', 'c']\n",
            "['e', 'f', 'g']\n",
            "['i', 'j']\n"
          ],
          "name": "stdout"
        }
      ]
    },
    {
      "cell_type": "markdown",
      "metadata": {
        "id": "NWe_XtTXuErk",
        "colab_type": "text"
      },
      "source": [
        "#### Program 4: Write a python program for following\n",
        "\n",
        "- Your goal in this exercise is to prove that copying a list protects the original list.\n",
        "- Make a list with three people's names in it.\n",
        "- Use a slice to make a copy of the entire list.\n",
        "- Add at least two new names to the new copy of the list.\n",
        "- Make a loop that prints out all of the names in the original list, along with a message that this is the original list.\n",
        "- Make a loop that prints out all of the names in the copied list, along with a message that this is the copied list."
      ]
    },
    {
      "cell_type": "code",
      "metadata": {
        "id": "mz_cmNDjuErm",
        "colab_type": "code",
        "outputId": "21e55ca5-f63e-4d3f-d088-8b89f107b21c",
        "colab": {
          "base_uri": "https://localhost:8080/",
          "height": 51
        }
      },
      "source": [
        "li=['Anurag','Arun','Anidhya']\n",
        "x=li.copy()\n",
        "x.append('Damon')\n",
        "x.append('Chinmay')\n",
        "print(\"Original List\",li)\n",
        "print(\"New List\",x)"
      ],
      "execution_count": 0,
      "outputs": [
        {
          "output_type": "stream",
          "text": [
            "Original List ['Anurag', 'Arun', 'Anidhya']\n",
            "New List ['Anurag', 'Arun', 'Anidhya', 'Damon', 'Chinmay']\n"
          ],
          "name": "stdout"
        }
      ]
    },
    {
      "cell_type": "markdown",
      "metadata": {
        "id": "whk0o2dAuErs",
        "colab_type": "text"
      },
      "source": [
        "#### Program 5: Write a python program for following\n",
        "\n",
        "- Create a list to store the marks of top 15 students obtained by the students in Python Quiz held on 21/08/2018. Maximum marks=15\n",
        "- Print the maximum marks obtained by the student from the list.\n",
        "- Print the minimum marks obtained by the student.\n",
        "- Find the sum of all the marks.\n",
        "- Find the average of the marks.\n",
        "- Reverse the original list and display using for loop.\n"
      ]
    },
    {
      "cell_type": "code",
      "metadata": {
        "id": "xpZzhZcSuEru",
        "colab_type": "code",
        "outputId": "82c90fa1-b987-4040-b49e-7a4a73e5b4e4",
        "colab": {
          "base_uri": "https://localhost:8080/",
          "height": 102
        }
      },
      "source": [
        "li=[10,20,30,15,16,17,7,18,20,15,12,30,4,1,12]\n",
        "print(max(li))\n",
        "print(min(li))\n",
        "print(sum(li))\n",
        "avg=sum(li)/len(li)\n",
        "print(avg)\n",
        "li.reverse()\n",
        "print(li)\n"
      ],
      "execution_count": 0,
      "outputs": [
        {
          "output_type": "stream",
          "text": [
            "30\n",
            "1\n",
            "227\n",
            "15.133333333333333\n",
            "[12, 1, 4, 30, 12, 15, 20, 18, 7, 17, 16, 15, 30, 20, 10]\n"
          ],
          "name": "stdout"
        }
      ]
    },
    {
      "cell_type": "markdown",
      "metadata": {
        "id": "frM5O8tHuEry",
        "colab_type": "text"
      },
      "source": [
        "#### Program 6: Write a program in Python to create a list which contains n integers entered by the user and delete all odd numbers from the list. Example: If initial contents of the list is=[1,2,3,4,5,6,7,8,9,10], the output would be=[2,4,6,8,10]."
      ]
    },
    {
      "cell_type": "code",
      "metadata": {
        "id": "alv_kdUouErz",
        "colab_type": "code",
        "outputId": "46d5aa84-cf7a-4374-b28f-2bbb217b7ed6",
        "colab": {
          "base_uri": "https://localhost:8080/",
          "height": 136
        }
      },
      "source": [
        "# write your code after this line\n",
        "li=[]\n",
        "for i in range(0,int(input(\"Enter number of elements :\"))):\n",
        "  s=int(input(\"Enter a element :\"))\n",
        "  li.append(s)\n",
        "for j in li:\n",
        "  if j%2!=0:\n",
        "    li.remove(j)\n",
        "print(li)"
      ],
      "execution_count": 0,
      "outputs": [
        {
          "output_type": "stream",
          "text": [
            "Enter number of elements :5\n",
            "Enter a element :1\n",
            "Enter a element :2\n",
            "Enter a element :3\n",
            "Enter a element :4\n",
            "Enter a element :5\n",
            "[2, 4]\n"
          ],
          "name": "stdout"
        }
      ]
    },
    {
      "cell_type": "markdown",
      "metadata": {
        "id": "-eh87vCguEr5",
        "colab_type": "text"
      },
      "source": [
        "## Optional Questions"
      ]
    },
    {
      "cell_type": "markdown",
      "metadata": {
        "id": "JDKd4_PEuEr6",
        "colab_type": "text"
      },
      "source": [
        "#### Program 7: Write a python program for following.\n",
        "- Create an initial empty list named \"countries\" \n",
        "- Read the names of n countries from the user and add them to country list:\n",
        "- Use for loop to display all the names of the countries from the list and add \"is Great\" after the country name if it is \"India\""
      ]
    },
    {
      "cell_type": "code",
      "metadata": {
        "id": "nEMwkoKmuEr7",
        "colab_type": "code",
        "outputId": "c909317e-eb4a-46c8-e3d3-c3daf26ebe79",
        "colab": {
          "base_uri": "https://localhost:8080/",
          "height": 85
        }
      },
      "source": [
        "# write code after this line\n",
        "li=[]\n",
        "for i in range(0,int(input('Enter number of countries :'))):\n",
        "  x=input(\"Enter country name:\" )\n",
        "  li.append(x)\n",
        "  if 'India'in li:\n",
        "    li[i]='India is great'\n",
        "print(li)"
      ],
      "execution_count": 0,
      "outputs": [
        {
          "output_type": "stream",
          "text": [
            "Enter number of countries :2\n",
            "Enter country name:India\n",
            "Enter country name:US\n",
            "['India is great', 'US']\n"
          ],
          "name": "stdout"
        }
      ]
    },
    {
      "cell_type": "markdown",
      "metadata": {
        "id": "bHtQiQ55uEr_",
        "colab_type": "text"
      },
      "source": [
        "### Program 8: Write a Python program to find the list in a list of lists whose sum of elements is the highest.\n",
        "Sample lists: [[1,2,3], [4,5,6], [10,11,12], [7,8,9]]\n",
        "Expected Output: [10, 11, 12]"
      ]
    },
    {
      "cell_type": "code",
      "metadata": {
        "id": "Kph_EFQ9uEsB",
        "colab_type": "code",
        "outputId": "f716554f-0368-438b-9f8d-f84bba280a79",
        "colab": {
          "base_uri": "https://localhost:8080/",
          "height": 34
        }
      },
      "source": [
        "li=[[1,2,3],[4,5,6],[10,11,12],[7,8,9]]\n",
        "print(max(li, key=sum))"
      ],
      "execution_count": 0,
      "outputs": [
        {
          "output_type": "stream",
          "text": [
            "[10, 11, 12]\n"
          ],
          "name": "stdout"
        }
      ]
    },
    {
      "cell_type": "code",
      "metadata": {
        "id": "T9WAQ0jEuEsK",
        "colab_type": "code",
        "colab": {}
      },
      "source": [
        ""
      ],
      "execution_count": 0,
      "outputs": []
    }
  ]
}